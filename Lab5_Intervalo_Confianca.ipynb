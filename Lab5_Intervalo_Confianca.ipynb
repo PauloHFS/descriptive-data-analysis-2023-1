{
  "cells": [
    {
      "cell_type": "markdown",
      "metadata": {
        "id": "view-in-github",
        "colab_type": "text"
      },
      "source": [
        "<a href=\"https://colab.research.google.com/github/PauloHFS/descriptive-data-analysis-2023-1/blob/main/Lab5_Intervalo_Confianca.ipynb\" target=\"_parent\"><img src=\"https://colab.research.google.com/assets/colab-badge.svg\" alt=\"Open In Colab\"/></a>"
      ]
    },
    {
      "cell_type": "markdown",
      "metadata": {
        "_uuid": "054f0cca3061be223d76116cb8544b598eb5a297",
        "id": "2WeN1QujkKWQ"
      },
      "source": [
        "# Lab - Intervalo de Confiança\n",
        "\n",
        "* A partir o dataset IRIS (já trabalhado na aula), gere um novo dataset contendo apenas 1 das 4 medidas disponíveis no dataset original (Sepal Lentgh, Setal Width, Petal Length, Petal Width). Além disso, remova todas as linhas referentes a um dos tipos de flor e mantenha apenas 2 tipos ao invés dos 3 contidos no datset original (Setosa, Versicolour e Virginica). Ou seja, seu dataset conterá 1 coluna e 100 linhas (há 50 amostras de cada tipo de flor no datset original).\n",
        "\n",
        "* Usando bootstrap para gerar o intervalo de confiança, calcule a diferença entre as médias para os dois tipos de flor.\n",
        "\n",
        "* Informe o seu resultado em uma frase do tipo: \"Com 95% de confiança, podemos afirmar que, em média, os cachorros são mais altos do que os gatos em 20,3cm, com intervalo de confiança de 17,2cm a 23,5cm\".\n",
        "\n",
        "* **Use o dataset inteiro** considerando que ele representa toda a amostra que você conseguiu coletar. Observe que isso é diferente do que fizemos em aula, onde consideramos que as 150 flores eram todas as existentes e nossa amostra continha uma quantidade menor (20, 30, por exemplo).\n",
        "\n",
        "* Dependendo da forma como você pretenda resolver o problema, você pode ter interesse em alterar a função bootstrap disponibilizada abaixo. Fique à vontade para gerar variações dessa função se assim desejar.\n",
        "\n"
      ]
    },
    {
      "cell_type": "markdown",
      "source": [
        "## Dados do(a) aluno(a)\n",
        "\n",
        "**Nome**: Paulo Hernane Fontes e Silva\n",
        "\n",
        "**Matrícula**: 119210311"
      ],
      "metadata": {
        "id": "nPWwvj4rum5q"
      }
    },
    {
      "cell_type": "markdown",
      "metadata": {
        "_uuid": "fd0fc89fe26333add074845d0629b52ae828584c",
        "id": "YDYyf7RxkKWT"
      },
      "source": [
        "## Imports."
      ]
    },
    {
      "cell_type": "code",
      "execution_count": 2,
      "metadata": {
        "_cell_guid": "b1076dfc-b9ad-4769-8c92-a6c4dae69d19",
        "_kg_hide-input": false,
        "_uuid": "8f2839f25d086af736a60e9eeb907d3b93b6e0e5",
        "id": "NzGss24lkKWU"
      },
      "outputs": [],
      "source": [
        "import numpy as np\n",
        "import pandas as pd\n",
        "import matplotlib.pyplot as plt\n",
        "from sklearn.utils import resample"
      ]
    },
    {
      "cell_type": "markdown",
      "source": [
        "## Carregando o Datset Original"
      ],
      "metadata": {
        "id": "Mk-7aJNE3DK6"
      }
    },
    {
      "cell_type": "code",
      "source": [
        "from sklearn import datasets\n",
        "iris = datasets.load_iris()"
      ],
      "metadata": {
        "id": "gY__Y6B6wDQ-"
      },
      "execution_count": 3,
      "outputs": []
    },
    {
      "cell_type": "code",
      "source": [
        "iris.data"
      ],
      "metadata": {
        "id": "c03oWNin3a6D",
        "colab": {
          "base_uri": "https://localhost:8080/"
        },
        "outputId": "65583d8e-348b-43de-da47-4a5c2e834bc1"
      },
      "execution_count": 4,
      "outputs": [
        {
          "output_type": "execute_result",
          "data": {
            "text/plain": [
              "array([[5.1, 3.5, 1.4, 0.2],\n",
              "       [4.9, 3. , 1.4, 0.2],\n",
              "       [4.7, 3.2, 1.3, 0.2],\n",
              "       [4.6, 3.1, 1.5, 0.2],\n",
              "       [5. , 3.6, 1.4, 0.2],\n",
              "       [5.4, 3.9, 1.7, 0.4],\n",
              "       [4.6, 3.4, 1.4, 0.3],\n",
              "       [5. , 3.4, 1.5, 0.2],\n",
              "       [4.4, 2.9, 1.4, 0.2],\n",
              "       [4.9, 3.1, 1.5, 0.1],\n",
              "       [5.4, 3.7, 1.5, 0.2],\n",
              "       [4.8, 3.4, 1.6, 0.2],\n",
              "       [4.8, 3. , 1.4, 0.1],\n",
              "       [4.3, 3. , 1.1, 0.1],\n",
              "       [5.8, 4. , 1.2, 0.2],\n",
              "       [5.7, 4.4, 1.5, 0.4],\n",
              "       [5.4, 3.9, 1.3, 0.4],\n",
              "       [5.1, 3.5, 1.4, 0.3],\n",
              "       [5.7, 3.8, 1.7, 0.3],\n",
              "       [5.1, 3.8, 1.5, 0.3],\n",
              "       [5.4, 3.4, 1.7, 0.2],\n",
              "       [5.1, 3.7, 1.5, 0.4],\n",
              "       [4.6, 3.6, 1. , 0.2],\n",
              "       [5.1, 3.3, 1.7, 0.5],\n",
              "       [4.8, 3.4, 1.9, 0.2],\n",
              "       [5. , 3. , 1.6, 0.2],\n",
              "       [5. , 3.4, 1.6, 0.4],\n",
              "       [5.2, 3.5, 1.5, 0.2],\n",
              "       [5.2, 3.4, 1.4, 0.2],\n",
              "       [4.7, 3.2, 1.6, 0.2],\n",
              "       [4.8, 3.1, 1.6, 0.2],\n",
              "       [5.4, 3.4, 1.5, 0.4],\n",
              "       [5.2, 4.1, 1.5, 0.1],\n",
              "       [5.5, 4.2, 1.4, 0.2],\n",
              "       [4.9, 3.1, 1.5, 0.2],\n",
              "       [5. , 3.2, 1.2, 0.2],\n",
              "       [5.5, 3.5, 1.3, 0.2],\n",
              "       [4.9, 3.6, 1.4, 0.1],\n",
              "       [4.4, 3. , 1.3, 0.2],\n",
              "       [5.1, 3.4, 1.5, 0.2],\n",
              "       [5. , 3.5, 1.3, 0.3],\n",
              "       [4.5, 2.3, 1.3, 0.3],\n",
              "       [4.4, 3.2, 1.3, 0.2],\n",
              "       [5. , 3.5, 1.6, 0.6],\n",
              "       [5.1, 3.8, 1.9, 0.4],\n",
              "       [4.8, 3. , 1.4, 0.3],\n",
              "       [5.1, 3.8, 1.6, 0.2],\n",
              "       [4.6, 3.2, 1.4, 0.2],\n",
              "       [5.3, 3.7, 1.5, 0.2],\n",
              "       [5. , 3.3, 1.4, 0.2],\n",
              "       [7. , 3.2, 4.7, 1.4],\n",
              "       [6.4, 3.2, 4.5, 1.5],\n",
              "       [6.9, 3.1, 4.9, 1.5],\n",
              "       [5.5, 2.3, 4. , 1.3],\n",
              "       [6.5, 2.8, 4.6, 1.5],\n",
              "       [5.7, 2.8, 4.5, 1.3],\n",
              "       [6.3, 3.3, 4.7, 1.6],\n",
              "       [4.9, 2.4, 3.3, 1. ],\n",
              "       [6.6, 2.9, 4.6, 1.3],\n",
              "       [5.2, 2.7, 3.9, 1.4],\n",
              "       [5. , 2. , 3.5, 1. ],\n",
              "       [5.9, 3. , 4.2, 1.5],\n",
              "       [6. , 2.2, 4. , 1. ],\n",
              "       [6.1, 2.9, 4.7, 1.4],\n",
              "       [5.6, 2.9, 3.6, 1.3],\n",
              "       [6.7, 3.1, 4.4, 1.4],\n",
              "       [5.6, 3. , 4.5, 1.5],\n",
              "       [5.8, 2.7, 4.1, 1. ],\n",
              "       [6.2, 2.2, 4.5, 1.5],\n",
              "       [5.6, 2.5, 3.9, 1.1],\n",
              "       [5.9, 3.2, 4.8, 1.8],\n",
              "       [6.1, 2.8, 4. , 1.3],\n",
              "       [6.3, 2.5, 4.9, 1.5],\n",
              "       [6.1, 2.8, 4.7, 1.2],\n",
              "       [6.4, 2.9, 4.3, 1.3],\n",
              "       [6.6, 3. , 4.4, 1.4],\n",
              "       [6.8, 2.8, 4.8, 1.4],\n",
              "       [6.7, 3. , 5. , 1.7],\n",
              "       [6. , 2.9, 4.5, 1.5],\n",
              "       [5.7, 2.6, 3.5, 1. ],\n",
              "       [5.5, 2.4, 3.8, 1.1],\n",
              "       [5.5, 2.4, 3.7, 1. ],\n",
              "       [5.8, 2.7, 3.9, 1.2],\n",
              "       [6. , 2.7, 5.1, 1.6],\n",
              "       [5.4, 3. , 4.5, 1.5],\n",
              "       [6. , 3.4, 4.5, 1.6],\n",
              "       [6.7, 3.1, 4.7, 1.5],\n",
              "       [6.3, 2.3, 4.4, 1.3],\n",
              "       [5.6, 3. , 4.1, 1.3],\n",
              "       [5.5, 2.5, 4. , 1.3],\n",
              "       [5.5, 2.6, 4.4, 1.2],\n",
              "       [6.1, 3. , 4.6, 1.4],\n",
              "       [5.8, 2.6, 4. , 1.2],\n",
              "       [5. , 2.3, 3.3, 1. ],\n",
              "       [5.6, 2.7, 4.2, 1.3],\n",
              "       [5.7, 3. , 4.2, 1.2],\n",
              "       [5.7, 2.9, 4.2, 1.3],\n",
              "       [6.2, 2.9, 4.3, 1.3],\n",
              "       [5.1, 2.5, 3. , 1.1],\n",
              "       [5.7, 2.8, 4.1, 1.3],\n",
              "       [6.3, 3.3, 6. , 2.5],\n",
              "       [5.8, 2.7, 5.1, 1.9],\n",
              "       [7.1, 3. , 5.9, 2.1],\n",
              "       [6.3, 2.9, 5.6, 1.8],\n",
              "       [6.5, 3. , 5.8, 2.2],\n",
              "       [7.6, 3. , 6.6, 2.1],\n",
              "       [4.9, 2.5, 4.5, 1.7],\n",
              "       [7.3, 2.9, 6.3, 1.8],\n",
              "       [6.7, 2.5, 5.8, 1.8],\n",
              "       [7.2, 3.6, 6.1, 2.5],\n",
              "       [6.5, 3.2, 5.1, 2. ],\n",
              "       [6.4, 2.7, 5.3, 1.9],\n",
              "       [6.8, 3. , 5.5, 2.1],\n",
              "       [5.7, 2.5, 5. , 2. ],\n",
              "       [5.8, 2.8, 5.1, 2.4],\n",
              "       [6.4, 3.2, 5.3, 2.3],\n",
              "       [6.5, 3. , 5.5, 1.8],\n",
              "       [7.7, 3.8, 6.7, 2.2],\n",
              "       [7.7, 2.6, 6.9, 2.3],\n",
              "       [6. , 2.2, 5. , 1.5],\n",
              "       [6.9, 3.2, 5.7, 2.3],\n",
              "       [5.6, 2.8, 4.9, 2. ],\n",
              "       [7.7, 2.8, 6.7, 2. ],\n",
              "       [6.3, 2.7, 4.9, 1.8],\n",
              "       [6.7, 3.3, 5.7, 2.1],\n",
              "       [7.2, 3.2, 6. , 1.8],\n",
              "       [6.2, 2.8, 4.8, 1.8],\n",
              "       [6.1, 3. , 4.9, 1.8],\n",
              "       [6.4, 2.8, 5.6, 2.1],\n",
              "       [7.2, 3. , 5.8, 1.6],\n",
              "       [7.4, 2.8, 6.1, 1.9],\n",
              "       [7.9, 3.8, 6.4, 2. ],\n",
              "       [6.4, 2.8, 5.6, 2.2],\n",
              "       [6.3, 2.8, 5.1, 1.5],\n",
              "       [6.1, 2.6, 5.6, 1.4],\n",
              "       [7.7, 3. , 6.1, 2.3],\n",
              "       [6.3, 3.4, 5.6, 2.4],\n",
              "       [6.4, 3.1, 5.5, 1.8],\n",
              "       [6. , 3. , 4.8, 1.8],\n",
              "       [6.9, 3.1, 5.4, 2.1],\n",
              "       [6.7, 3.1, 5.6, 2.4],\n",
              "       [6.9, 3.1, 5.1, 2.3],\n",
              "       [5.8, 2.7, 5.1, 1.9],\n",
              "       [6.8, 3.2, 5.9, 2.3],\n",
              "       [6.7, 3.3, 5.7, 2.5],\n",
              "       [6.7, 3. , 5.2, 2.3],\n",
              "       [6.3, 2.5, 5. , 1.9],\n",
              "       [6.5, 3. , 5.2, 2. ],\n",
              "       [6.2, 3.4, 5.4, 2.3],\n",
              "       [5.9, 3. , 5.1, 1.8]])"
            ]
          },
          "metadata": {},
          "execution_count": 4
        }
      ]
    },
    {
      "cell_type": "code",
      "source": [
        "iris.feature_names"
      ],
      "metadata": {
        "id": "p1LxNt_c3aJ-",
        "colab": {
          "base_uri": "https://localhost:8080/"
        },
        "outputId": "f7e07544-2822-4d3c-d01e-d5313484c7b7"
      },
      "execution_count": 5,
      "outputs": [
        {
          "output_type": "execute_result",
          "data": {
            "text/plain": [
              "['sepal length (cm)',\n",
              " 'sepal width (cm)',\n",
              " 'petal length (cm)',\n",
              " 'petal width (cm)']"
            ]
          },
          "metadata": {},
          "execution_count": 5
        }
      ]
    },
    {
      "cell_type": "code",
      "source": [
        "iris.target"
      ],
      "metadata": {
        "id": "mEAk0wUK5jv4",
        "colab": {
          "base_uri": "https://localhost:8080/"
        },
        "outputId": "4497cdc6-270a-472e-e07b-c8a92980abf3"
      },
      "execution_count": 6,
      "outputs": [
        {
          "output_type": "execute_result",
          "data": {
            "text/plain": [
              "array([0, 0, 0, 0, 0, 0, 0, 0, 0, 0, 0, 0, 0, 0, 0, 0, 0, 0, 0, 0, 0, 0,\n",
              "       0, 0, 0, 0, 0, 0, 0, 0, 0, 0, 0, 0, 0, 0, 0, 0, 0, 0, 0, 0, 0, 0,\n",
              "       0, 0, 0, 0, 0, 0, 1, 1, 1, 1, 1, 1, 1, 1, 1, 1, 1, 1, 1, 1, 1, 1,\n",
              "       1, 1, 1, 1, 1, 1, 1, 1, 1, 1, 1, 1, 1, 1, 1, 1, 1, 1, 1, 1, 1, 1,\n",
              "       1, 1, 1, 1, 1, 1, 1, 1, 1, 1, 1, 1, 2, 2, 2, 2, 2, 2, 2, 2, 2, 2,\n",
              "       2, 2, 2, 2, 2, 2, 2, 2, 2, 2, 2, 2, 2, 2, 2, 2, 2, 2, 2, 2, 2, 2,\n",
              "       2, 2, 2, 2, 2, 2, 2, 2, 2, 2, 2, 2, 2, 2, 2, 2, 2, 2])"
            ]
          },
          "metadata": {},
          "execution_count": 6
        }
      ]
    },
    {
      "cell_type": "code",
      "source": [
        "iris.target_names"
      ],
      "metadata": {
        "id": "eD62hwOk51K2",
        "colab": {
          "base_uri": "https://localhost:8080/"
        },
        "outputId": "dcb864e2-e02c-41f8-d319-2dc56cdf3750"
      },
      "execution_count": 7,
      "outputs": [
        {
          "output_type": "execute_result",
          "data": {
            "text/plain": [
              "array(['setosa', 'versicolor', 'virginica'], dtype='<U10')"
            ]
          },
          "metadata": {},
          "execution_count": 7
        }
      ]
    },
    {
      "cell_type": "markdown",
      "source": [
        "## Gerando o novo Dataset"
      ],
      "metadata": {
        "id": "fielTImn3NQ9"
      }
    },
    {
      "cell_type": "code",
      "source": [
        "# vamos pegar a setosa e a versicolor e comparar o length das petalas\n",
        "data_setosa, data_versicolor = iris.data[iris.target == 0, 2], iris.data[iris.target == 1, 2]"
      ],
      "metadata": {
        "id": "GI1CFBWD3gMT"
      },
      "execution_count": 8,
      "outputs": []
    },
    {
      "cell_type": "code",
      "source": [
        "data_setosa.shape"
      ],
      "metadata": {
        "colab": {
          "base_uri": "https://localhost:8080/"
        },
        "id": "4ggtpTjp8a-9",
        "outputId": "e6f22269-baf7-4e84-dc5b-86ab145a1684"
      },
      "execution_count": 9,
      "outputs": [
        {
          "output_type": "execute_result",
          "data": {
            "text/plain": [
              "(50,)"
            ]
          },
          "metadata": {},
          "execution_count": 9
        }
      ]
    },
    {
      "cell_type": "markdown",
      "source": [
        "## Definição da função de Bootstrap\n",
        "\n",
        "Dependendo da forma como você pretenda resolver o problema, você pode ter interesse em alterar a função bootstrap disponibilizada abaixo. Fique à vontade para gerar variações dessa função se assim desejar."
      ],
      "metadata": {
        "id": "rmwtyT063tTV"
      }
    },
    {
      "cell_type": "code",
      "source": [
        "def bootstrap(data, func, alpha=0.95, n_rep=1000):\n",
        "\n",
        "  theta_hat_error_list = list()\n",
        "  theta = func(data)\n",
        "\n",
        "  # Resampling\n",
        "  for i in range(0,n_rep):\n",
        "    x = resample(data, replace=True)\n",
        "    theta_hat_error = func(x) - theta\n",
        "    theta_hat_error_list.append(theta_hat_error)\n",
        "\n",
        "  # Percentiles\n",
        "  lower_p = ((1.0-alpha)/2.0) * 100\n",
        "  upper_p = (alpha+((1.0-alpha)/2.0)) * 100\n",
        "\n",
        "  # Lower and Upper Bounds\n",
        "  lower_value = np.percentile(theta_hat_error_list, lower_p)\n",
        "  upper_value = np.percentile(theta_hat_error_list, upper_p)\n",
        "\n",
        "  lower_limit = theta+lower_value\n",
        "  upper_limit = theta+upper_value\n",
        "\n",
        "  return theta, lower_limit, upper_limit"
      ],
      "metadata": {
        "id": "uUBf66QHwez3"
      },
      "execution_count": 10,
      "outputs": []
    },
    {
      "cell_type": "markdown",
      "metadata": {
        "_uuid": "5b838f778af8cb2740c6d54e5bb6608223ab54f4",
        "id": "9DstiDfAkKWW"
      },
      "source": [
        "## Análise das diferenças entre os dois tipos de flor escolhidos."
      ]
    },
    {
      "cell_type": "markdown",
      "source": [
        "Primeiro realizamos uma permutação calculando a diferença de todos os elementos da nossa amostragem para obter a média das diferenças geral, iremos utilizar para avaliar nossa amostragem."
      ],
      "metadata": {
        "id": "AM4xBnqf-opJ"
      }
    },
    {
      "cell_type": "code",
      "source": [
        "# Realizando broadcasting para calcular a diferença dos 50 X 50 elementos\n",
        "# cada elemento de data_versicolor vira uma lista com esse mesmo elemento,\n",
        "# em seguida o np calcula a diferença desse elemento por todos os elemento em\n",
        "# data_setosa e armazena nessa lista\n",
        "diff = data_versicolor[:, np.newaxis] - data_setosa\n",
        "# reduzimos as dimensões das array agora para apenas uma\n",
        "diff = diff.flatten()\n",
        "diff.shape"
      ],
      "metadata": {
        "colab": {
          "base_uri": "https://localhost:8080/"
        },
        "id": "d9vKuJP8_8SX",
        "outputId": "586816d5-4304-4e5b-c8ff-7a150d046cc9"
      },
      "execution_count": 23,
      "outputs": [
        {
          "output_type": "execute_result",
          "data": {
            "text/plain": [
              "(2500,)"
            ]
          },
          "metadata": {},
          "execution_count": 23
        }
      ]
    },
    {
      "cell_type": "code",
      "source": [
        "def bootstrap_new(data1, data2, theta, alpha=0.95, n_rep=1000):\n",
        " # 1. pegar um valor estatistico da amostra. aka média das diferenças aka theta\n",
        "  theta_hat_error_list = list()\n",
        "\n",
        "  # Resampling\n",
        "  for i in range(0,n_rep):\n",
        "    # 2. realiza reamostragem de ambos os datasets de amostra\n",
        "    x,y = resample(data1,data2, replace=True)\n",
        "\n",
        "    # 3. calcula a diferença das médias entre as amostragens\n",
        "    # 4. calcula o error dessa diferença de theta\n",
        "    # obs: aqui testei fazer a diferença por broadcasting das series mas deu muito proximo o resultado, então deixei esse mesmo\n",
        "    theta_hat_error = (np.mean(x) - np.mean(y)) - theta\n",
        "    # 5. adiciona a lista\n",
        "    theta_hat_error_list.append(theta_hat_error)\n",
        "\n",
        "  # Percentiles\n",
        "  lower_p = ((1.0-alpha)/2.0) * 100\n",
        "  upper_p = (alpha+((1.0-alpha)/2.0)) * 100\n",
        "\n",
        "  # Lower and Upper Bounds\n",
        "  lower_value = np.percentile(theta_hat_error_list, lower_p)\n",
        "  upper_value = np.percentile(theta_hat_error_list, upper_p)\n",
        "\n",
        "  lower_limit = theta+lower_value\n",
        "  upper_limit = theta+upper_value\n",
        "\n",
        "  return theta, lower_limit, upper_limit"
      ],
      "metadata": {
        "id": "XYtb7NPrBRH1"
      },
      "execution_count": 93,
      "outputs": []
    },
    {
      "cell_type": "code",
      "source": [
        "bootstrap_new(data_versicolor, data_setosa, np.mean(diff))"
      ],
      "metadata": {
        "colab": {
          "base_uri": "https://localhost:8080/"
        },
        "id": "V5paOef_BnaK",
        "outputId": "1cbe606a-ec49-4e17-ad8a-5ecea22f4466"
      },
      "execution_count": 95,
      "outputs": [
        {
          "output_type": "execute_result",
          "data": {
            "text/plain": [
              "(2.798, 2.652000000000001, 2.938099999999999)"
            ]
          },
          "metadata": {},
          "execution_count": 95
        }
      ]
    },
    {
      "cell_type": "markdown",
      "source": [
        "Resultado:\n",
        "\n",
        "Podemos afirmar com 95% de certeza que as Versicolor são maiores que as Setosas em 2.798cm, com intervalo de confiança de 2.649cm a 2.934cm."
      ],
      "metadata": {
        "id": "IypLK9-A4K0n"
      }
    }
  ],
  "metadata": {
    "kernelspec": {
      "display_name": "Python 3",
      "language": "python",
      "name": "python3"
    },
    "language_info": {
      "codemirror_mode": {
        "name": "ipython",
        "version": 3
      },
      "file_extension": ".py",
      "mimetype": "text/x-python",
      "name": "python",
      "nbconvert_exporter": "python",
      "pygments_lexer": "ipython3",
      "version": "3.6.6"
    },
    "colab": {
      "provenance": [],
      "include_colab_link": true
    }
  },
  "nbformat": 4,
  "nbformat_minor": 0
}